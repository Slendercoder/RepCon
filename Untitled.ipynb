{
 "cells": [
  {
   "cell_type": "code",
   "execution_count": 1,
   "metadata": {},
   "outputs": [
    {
     "ename": "ModuleNotFoundError",
     "evalue": "No module named 'nltk'",
     "output_type": "error",
     "traceback": [
      "\u001b[1;31m---------------------------------------------------------------------------\u001b[0m",
      "\u001b[1;31mModuleNotFoundError\u001b[0m                       Traceback (most recent call last)",
      "\u001b[1;32m<ipython-input-1-1ab79ab6ff26>\u001b[0m in \u001b[0;36m<module>\u001b[1;34m\u001b[0m\n\u001b[1;32m----> 1\u001b[1;33m \u001b[1;32mimport\u001b[0m \u001b[0mnltk\u001b[0m\u001b[1;33m\u001b[0m\u001b[1;33m\u001b[0m\u001b[0m\n\u001b[0m\u001b[0;32m      2\u001b[0m \u001b[1;32mimport\u001b[0m \u001b[0mspacy\u001b[0m\u001b[1;33m\u001b[0m\u001b[1;33m\u001b[0m\u001b[0m\n\u001b[0;32m      3\u001b[0m \u001b[1;32mfrom\u001b[0m \u001b[0mspacy\u001b[0m \u001b[1;32mimport\u001b[0m \u001b[0mdisplacy\u001b[0m\u001b[1;33m\u001b[0m\u001b[1;33m\u001b[0m\u001b[0m\n\u001b[0;32m      4\u001b[0m \u001b[1;32mfrom\u001b[0m \u001b[0mnltk\u001b[0m \u001b[1;32mimport\u001b[0m \u001b[0mTree\u001b[0m\u001b[1;33m\u001b[0m\u001b[1;33m\u001b[0m\u001b[0m\n\u001b[0;32m      5\u001b[0m \u001b[1;32mfrom\u001b[0m \u001b[0mnltk\u001b[0m\u001b[1;33m.\u001b[0m\u001b[0mtree\u001b[0m \u001b[1;32mimport\u001b[0m \u001b[0mParentedTree\u001b[0m\u001b[1;33m\u001b[0m\u001b[1;33m\u001b[0m\u001b[0m\n",
      "\u001b[1;31mModuleNotFoundError\u001b[0m: No module named 'nltk'"
     ]
    }
   ],
   "source": [
    "import nltk\n",
    "import spacy\n",
    "from spacy import displacy\n",
    "from nltk import Tree\n",
    "from nltk.tree import ParentedTree\n",
    "import es_core_news_sm\n",
    "#import stanza\n",
    "#from spacy_stanza import StanzaLanguage\n",
    "\n",
    "#nlp = es_core_news_sm.load()\n",
    "\n",
    "nlp = spacy.load('es_core_news_sm')\n",
    "\n",
    "#snlp = stanza.Pipeline(lang=\"es\")\n",
    "#nlp = StanzaLanguage(snlp)"
   ]
  },
  {
   "cell_type": "code",
   "execution_count": null,
   "metadata": {},
   "outputs": [],
   "source": [
    "def to_nltk_tree(node):\n",
    "    if node.n_lefts + node.n_rights > 0:\n",
    "        return Tree(node.orth_ + '-' + node.dep_, [to_nltk_tree(child) for child in node.children])\n",
    "    else:\n",
    "        return node.orth_ + '-' + node.dep_\n",
    "\n",
    "    \n",
    "def to_nltk_tree1(node):\n",
    "    if node.n_lefts + node.n_rights > 0:\n",
    "        return Tree(node.tag_, [to_nltk_tree1(child) for child in node.children])\n",
    "    else:\n",
    "        return node.tag_\n",
    "\n",
    "    \n",
    "def crear_arbol(texto, nlp):\n",
    "    document = nlp(texto)\n",
    "    jc = list(document.sents)[0]\n",
    "    arbol = to_nltk_tree(jc.root)\n",
    "    # arbol = ParentedTree.convert(arbol)\n",
    "    arbol.pretty_print()\n",
    "    return arbol\n",
    "\n",
    "\n",
    "def rec1(A):\n",
    "    if type(A) is nltk.Tree:\n",
    "        cadena = A.label() \n",
    "        for i, B in enumerate(A):\n",
    "            cadena += '(' + rec1(B) + ')'\n",
    "        return cadena\n",
    "    else:\n",
    "        return A\n",
    "    \n",
    "    \n",
    "def aplicacion(A, diccionario):\n",
    "    if type(A) is nltk.Tree:\n",
    "        funcion = diccionario[A.label()]\n",
    "        argumentos = [aplicacion(x, diccionario) for x in A]\n",
    "        return funcion(*argumentos)\n",
    "    else:\n",
    "        return diccionario[A]\n",
    "\n",
    "    \n",
    "def limpiar_texto(texto, stopwords):\n",
    "#     token = nltk.RegexpTokenizer(r\"\\w+\")\n",
    "#     tokens = token.tokenize(texto)\n",
    "#     lemmatizer = nltk.stem.WordNetLemmatizer()\n",
    "#    snlp = stanza.Pipeline(lang=\"es\")\n",
    "#    nlp = StanzaLanguage(snlp)\n",
    "#    texto = nlp(texto)\n",
    "    texto = texto.replace('.', '')\n",
    "    lista_texto = texto.split()\n",
    "#    lista = [token.lemma_ for token in texto]\n",
    "    lista = lista_texto\n",
    "    lista = [x for x in lista if x not in stopwords]\n",
    "    return ' '.join(lista)\n",
    "\n",
    "# Función que retorna la forma lógica de un átomo\n",
    "def atomo(texto, nlp, diccionario):\n",
    "    arbol = crear_arbol(texto, nlp)\n",
    "    return aplicacion(arbol, diccionario)\n",
    "\n",
    "# Función para separar por y/o\n",
    "def prop(texto, nlp, diccionario):\n",
    "    documento = nlp(texto)\n",
    "    palabras = [t.orth_ for t in documento]\n",
    "    for i,token in enumerate(documento):\n",
    "#        print(i, token.tag_, token)\n",
    "        if token.tag_ == 'CCONJ':\n",
    "            form1 = atomo(' '.join(palabras[:i]), nlp, diccionario)\n",
    "            form2 = atomo(' '.join(palabras[i+1:]), nlp, diccionario)\n",
    "            if str(token) == 'y':\n",
    "                conectivo = 'Y'\n",
    "            elif str(token) == 'o':\n",
    "                conectivo = 'O'\n",
    "            else:\n",
    "                raise Exception('Conectivo desconocido', token)\n",
    "            return form1 + conectivo + form2\n",
    "    return atomo(texto, nlp, diccionario)\n",
    "\n",
    "# Función que incluye condicionales\n",
    "def traducir(texto, nlp, diccionario):\n",
    "    documento = nlp(texto)\n",
    "    palabras = [t.orth_ for t in documento]\n",
    "    implicacion = False\n",
    "    coma = False\n",
    "    entonces = True\n",
    "    for i,token in enumerate(documento):\n",
    "        if token.tag_ == \"SCONJ\":\n",
    "            ind_si = i\n",
    "            implicacion = True\n",
    "        if implicacion:\n",
    "            if token.tag_ == \"PUNCT\" and token.orth_ == \",\":\n",
    "                ind_coma = i\n",
    "                coma = True\n",
    "            if token.tag_ == \"ADV\" and token.orth_ == \"entonces\":\n",
    "                ind_ent = i\n",
    "                entonces = True\n",
    "    if implicacion and (ind_coma == ind_ent - 1):\n",
    "        Antecedente = prop(' '.join(palabras[ind_si + 1 : ind_coma]), nlp, diccionario)\n",
    "        Consecuente = prop(' '.join(palabras[ind_ent +1:]), nlp, diccionario)\n",
    "        return Antecedente + '>' + Consecuente\n",
    "    return prop(texto, nlp, diccionario)"
   ]
  },
  {
   "cell_type": "markdown",
   "metadata": {},
   "source": [
    "##Tipos de Entidades\n",
    "1: Objetos o personas\n",
    "2: Lugares\n",
    "3: Tiempos"
   ]
  },
  {
   "cell_type": "code",
   "execution_count": null,
   "metadata": {},
   "outputs": [],
   "source": [
    "diccionario = {'camina-ROOT': lambda x: 'CAMINAR(' + str(x) + ')',\n",
    "               'está-ROOT': lambda x, y: 'ESTAR(' + str(x) + ',' + str(y) + ')', \n",
    "               'detesta-ROOT': lambda x, y: 'DETESTAR(' + str(x) + ',' + str(y) + ')', \n",
    "               'viaja-ROOT' : lambda x,y,z,w: 'VIAJAR(' + str(x) + ',' + str(y) + ',' + str(z) + ',' + str(w) + ')',\n",
    "               'tiene-ROOT': lambda x, y: 'TENER(' + str(x) + ',' + str(y) + ')',\n",
    "               'tener-ROOT': lambda x, y: 'TENER(' + str(x) + ',' + str(y) + ')',\n",
    "               'comer-ccomp': lambda x: 'COMER(' + str(x) + ')',\n",
    "               'juan-nsubj':'j1',\n",
    "               'laptop-nsubj': 'l1',\n",
    "               'maria-obj':'m1',\n",
    "               'pizza-obj' : 'p1',\n",
    "               'laptop-obj': 'l1',\n",
    "              'Bogotá-nsubj': 'b2',\n",
    "              'Bogotá-obj': 'b2',\n",
    "              'Medellín-obj': 'm2',\n",
    "              'bogota-obj': 'b2',\n",
    "              'medellin-obj': 'm2',\n",
    "              'martes-obj': 'm3',\n",
    "              'miercoles-obj': 'c3',\n",
    "              }\n",
    "\n",
    "stopwords = ['la', 'en', 'a', 'una', 'el', 'de', 'un']"
   ]
  },
  {
   "cell_type": "markdown",
   "metadata": {},
   "source": [
    "* Primero se preprocesa el texto. (?)\n",
    "* Crear el diccionario de forma automática. (?)\n",
    "* Segmentar el texto en frases. (funcion?)\n",
    "* Axiomas del dominio y sentido comúm.\n",
    "* Representación de preguntas.\n",
    "* Crear la base de conocimiento.\n",
    "* Hacer la deducción automática."
   ]
  },
  {
   "cell_type": "markdown",
   "metadata": {},
   "source": [
    "Token attributes: https://spacy.io/api/token\n",
    "\n",
    "*pos_:* Coarse-grained part-of-speech from the Universal POS tag set.\n",
    "\n",
    "*tag_:* Fine-grained part-of-speech.\n",
    "\n",
    "*dep_:* Syntactic dependency relation. \n",
    "\n",
    "*orth_:* ID of the verbatim text content. "
   ]
  },
  {
   "cell_type": "markdown",
   "metadata": {},
   "source": [
    "---"
   ]
  },
  {
   "cell_type": "markdown",
   "metadata": {},
   "source": [
    "### Primer ejemplo"
   ]
  },
  {
   "cell_type": "code",
   "execution_count": null,
   "metadata": {},
   "outputs": [],
   "source": [
    "texto = 'juan tiene una laptop'\n",
    "texto = limpiar_texto(texto, stopwords)\n",
    "traducir(texto, nlp, diccionario)"
   ]
  },
  {
   "cell_type": "markdown",
   "metadata": {},
   "source": [
    "---"
   ]
  },
  {
   "cell_type": "markdown",
   "metadata": {},
   "source": [
    "### Segundo ejemplo"
   ]
  },
  {
   "cell_type": "code",
   "execution_count": null,
   "metadata": {},
   "outputs": [],
   "source": [
    "texto = 'juan tiene una laptop y juan está en Bogotá'\n",
    "texto = limpiar_texto(texto, stopwords)\n",
    "traducir(texto, nlp, diccionario)"
   ]
  },
  {
   "cell_type": "markdown",
   "metadata": {},
   "source": [
    "---"
   ]
  },
  {
   "cell_type": "markdown",
   "metadata": {},
   "source": [
    "### Tercer ejemplo"
   ]
  },
  {
   "cell_type": "code",
   "execution_count": null,
   "metadata": {},
   "outputs": [],
   "source": [
    "texto = 'juan viaja bogota medellin martes'\n",
    "texto = limpiar_texto(texto, stopwords)\n",
    "traducir(texto, nlp, diccionario)"
   ]
  },
  {
   "cell_type": "markdown",
   "metadata": {},
   "source": [
    "---"
   ]
  },
  {
   "cell_type": "markdown",
   "metadata": {},
   "source": [
    "### Cuarto ejemplo"
   ]
  },
  {
   "cell_type": "code",
   "execution_count": null,
   "metadata": {},
   "outputs": [],
   "source": [
    "texto = 'si juan está en Bogotá, entonces la laptop está en Bogotá'\n",
    "texto = limpiar_texto(texto, stopwords)\n",
    "traducir(texto, nlp, diccionario)"
   ]
  },
  {
   "cell_type": "markdown",
   "metadata": {},
   "source": [
    "---"
   ]
  },
  {
   "cell_type": "markdown",
   "metadata": {},
   "source": [
    "### Quinto ejemplo"
   ]
  },
  {
   "cell_type": "code",
   "execution_count": null,
   "metadata": {
    "scrolled": true
   },
   "outputs": [],
   "source": [
    "txt = \"Si juan tiene una laptop y juan está en Bogotá, entonces la laptop está en Bogotá\"\n",
    "txt = limpiar_texto(txt, stopwords)\n",
    "traducir(txt, nlp, diccionario)"
   ]
  },
  {
   "cell_type": "markdown",
   "metadata": {},
   "source": [
    "---"
   ]
  },
  {
   "cell_type": "code",
   "execution_count": null,
   "metadata": {},
   "outputs": [],
   "source": [
    "texto = 'juan tiene una laptop. juan viaja de bogota a medellin el martes'\n",
    "documento = texto.split('. ')\n",
    "formulas_texto = []\n",
    "for s in documento:\n",
    "    txt = limpiar_texto(s, stopwords)\n",
    "    formulas_texto.append(traducir(str(txt), nlp, diccionario))\n",
    "print(formulas_texto)"
   ]
  },
  {
   "cell_type": "code",
   "execution_count": 2,
   "metadata": {},
   "outputs": [
    {
     "ename": "NameError",
     "evalue": "name 'limpiar_texto' is not defined",
     "output_type": "error",
     "traceback": [
      "\u001b[1;31m---------------------------------------------------------------------------\u001b[0m",
      "\u001b[1;31mNameError\u001b[0m                                 Traceback (most recent call last)",
      "\u001b[1;32m<ipython-input-2-c5a6b4680fd5>\u001b[0m in \u001b[0;36m<module>\u001b[1;34m\u001b[0m\n\u001b[0;32m      1\u001b[0m \u001b[0mtexto\u001b[0m \u001b[1;33m=\u001b[0m \u001b[1;34m'la laptop está en x'\u001b[0m\u001b[1;33m\u001b[0m\u001b[1;33m\u001b[0m\u001b[0m\n\u001b[1;32m----> 2\u001b[1;33m \u001b[0mtexto\u001b[0m \u001b[1;33m=\u001b[0m \u001b[0mlimpiar_texto\u001b[0m\u001b[1;33m(\u001b[0m\u001b[0mtexto\u001b[0m\u001b[1;33m,\u001b[0m \u001b[0mstopwords\u001b[0m\u001b[1;33m)\u001b[0m\u001b[1;33m\u001b[0m\u001b[1;33m\u001b[0m\u001b[0m\n\u001b[0m\u001b[0;32m      3\u001b[0m \u001b[0mtraducir\u001b[0m\u001b[1;33m(\u001b[0m\u001b[0mtexto\u001b[0m\u001b[1;33m,\u001b[0m \u001b[0mnlp\u001b[0m\u001b[1;33m,\u001b[0m \u001b[0mdiccionario\u001b[0m\u001b[1;33m)\u001b[0m\u001b[1;33m\u001b[0m\u001b[1;33m\u001b[0m\u001b[0m\n",
      "\u001b[1;31mNameError\u001b[0m: name 'limpiar_texto' is not defined"
     ]
    }
   ],
   "source": [
    "texto = 'la laptop está en x'\n",
    "texto = limpiar_texto(texto, stopwords)\n",
    "traducir(texto, nlp, diccionario)"
   ]
  },
  {
   "cell_type": "code",
   "execution_count": null,
   "metadata": {},
   "outputs": [],
   "source": [
    "preguntas = 'dónde está el laptop el miércoles? dónde está juan el martes?'\n",
    "documento = preguntas.split('?')\n",
    "formulas_preguntas = []\n",
    "for s in documento:\n",
    "    txt = limpiar_texto(s, stopwords)\n",
    "    formulas_preguntas.append(traducir(str(txt), nlp, diccionario))\n",
    "print(formulas_preguntas)"
   ]
  },
  {
   "cell_type": "code",
   "execution_count": null,
   "metadata": {},
   "outputs": [],
   "source": [
    "sentido_comun = 'Si juan tiene una laptop y juan está en Bogotá, entonces la laptop está en Bogotá'\n",
    "documento = sentido_comun.split('. ')\n",
    "formulas_sentido_comun = []\n",
    "for s in documento:\n",
    "    txt = limpiar_texto(s, stopwords)\n",
    "    formulas_sentido_comun.append(traducir(str(txt), nlp, diccionario))\n",
    "print(formulas_sentido_comun)"
   ]
  },
  {
   "cell_type": "markdown",
   "metadata": {},
   "source": [
    "## Preguntas\n",
    "Al encontrar preguntas con \"Dónde\" se debe realizar una lista con las posibles respuestas de lugares que hagan verdadera la proposición"
   ]
  },
  {
   "cell_type": "code",
   "execution_count": null,
   "metadata": {},
   "outputs": [],
   "source": [
    "# txt = 'dónde VERBO SUJETO?'\n",
    "txt = '¿dónde está Bogotá?'\n",
    "\n",
    "def pregunta_donde(txt):\n",
    "    tipo_funcion = type(lambda x: x2)\n",
    "    print(tipo_funcion)\n",
    "    Entidades = [k for k in diccionario.keys() if type(diccionario[k]) != tipo_funcion]\n",
    "    print(\"Entidades\", Entidades)\n",
    "    Lugares = [k for k in Entidades if '2' in diccionario[k]]\n",
    "    Lugares = list(set([k.split(\"-\")[0] for k in Lugares]))\n",
    "    print(\"Lugares\", Lugares)\n",
    "    document = nlp(txt)\n",
    "    crear_arbol(txt, nlp)\n",
    "    sujetos = [t.orth_ for t in document if t.tag_ == 'NOUN' or t.tag_ == 'PROPN']\n",
    "    verbs = [t.orth_ for t in document if t.tag_ == 'VERB']\n",
    "    tags = [t.dep_ for t in document]\n",
    "    print(tags)\n",
    "    props = []\n",
    "    for x2 in Lugares:\n",
    "        props.append(f'{sujetos[0]} {verbs[0]} {x2}')\n",
    "    return props\n",
    "\n",
    "print(pregunta_donde(txt))\n",
    "# 'dónde está el laptop?' => 'el laptop está x2'"
   ]
  },
  {
   "cell_type": "markdown",
   "metadata": {},
   "source": [
    "# Base de conocimiento"
   ]
  },
  {
   "cell_type": "code",
   "execution_count": null,
   "metadata": {},
   "outputs": [],
   "source": [
    "texto = 'juan tiene un laptop. juan está en Bogotá.'\n",
    "axiomas = 'Si juan está en Bogotá, entonces la laptop está en Bogotá.'\n",
    "formulas = []\n",
    "doc = nlp(texto + axiomas)\n",
    "\n",
    "for s in doc.sents:\n",
    "    sentence = limpiar_texto(s.text, stopwords)\n",
    "    print(sentence)\n",
    "    formulas.append(traducir(sentence, nlp, diccionario))\n",
    "\n",
    "print(formulas)"
   ]
  },
  {
   "cell_type": "code",
   "execution_count": null,
   "metadata": {},
   "outputs": [],
   "source": [
    "from logica import *\n",
    "\n",
    "# texto + axiomas => formulas de la base de conocimiento\n",
    "b = LPQuery(formulas)\n",
    "print(b)\n",
    "pregunta = 'dónde está el laptop?'\n",
    "\n",
    "# representación de la pregunta\n",
    "rep_pregunta = pregunta_donde(pregunta)\n",
    "\n",
    "# razonamiento automático\n",
    "for o in rep_pregunta:\n",
    "    opcion = traducir(o, nlp, diccionario)\n",
    "    print(opcion)\n",
    "    if ASK(opcion,'success',b):\n",
    "        print('Respuesta:', o)\n",
    "        break   "
   ]
  },
  {
   "cell_type": "code",
   "execution_count": null,
   "metadata": {},
   "outputs": [],
   "source": []
  }
 ],
 "metadata": {
  "kernelspec": {
   "display_name": "Python 3",
   "language": "python",
   "name": "python3"
  },
  "language_info": {
   "codemirror_mode": {
    "name": "ipython",
    "version": 3
   },
   "file_extension": ".py",
   "mimetype": "text/x-python",
   "name": "python",
   "nbconvert_exporter": "python",
   "pygments_lexer": "ipython3",
   "version": "3.7.1"
  }
 },
 "nbformat": 4,
 "nbformat_minor": 4
}
