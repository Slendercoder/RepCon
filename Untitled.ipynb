{
 "cells": [
  {
   "cell_type": "code",
   "execution_count": 1,
   "metadata": {},
   "outputs": [
    {
     "name": "stderr",
     "output_type": "stream",
     "text": [
      "/home/estudiantes/.local/lib/python3.8/site-packages/spacy/util.py:833: UserWarning: [W095] Model 'es_core_news_sm' (3.1.0) was trained with spaCy v3.1 and may not be 100% compatible with the current version (3.2.3). If you see errors or degraded performance, download a newer compatible model or retrain your custom model with the current spaCy version. For more details and available updates, run: python -m spacy validate\n",
      "  warnings.warn(warn_msg)\n"
     ]
    }
   ],
   "source": [
    "import nltk\n",
    "import spacy\n",
    "from spacy import displacy\n",
    "from nltk import Tree\n",
    "from nltk.tree import ParentedTree\n",
    "import es_core_news_sm\n",
    "#import stanza\n",
    "#from spacy_stanza import StanzaLanguage\n",
    "\n",
    "#nlp = es_core_news_sm.load()\n",
    "\n",
    "nlp = spacy.load('es_core_news_sm')\n",
    "\n",
    "#snlp = stanza.Pipeline(lang=\"es\")\n",
    "#nlp = StanzaLanguage(snlp)"
   ]
  },
  {
   "cell_type": "code",
   "execution_count": 2,
   "metadata": {},
   "outputs": [],
   "source": [
    "def to_nltk_tree(node):\n",
    "    if node.n_lefts + node.n_rights > 0:\n",
    "        return Tree(node.orth_ + '-' + node.dep_, [to_nltk_tree(child) for child in node.children])\n",
    "    else:\n",
    "        return node.orth_ + '-' + node.dep_\n",
    "\n",
    "    \n",
    "def to_nltk_tree1(node):\n",
    "    if node.n_lefts + node.n_rights > 0:\n",
    "        return Tree(node.tag_, [to_nltk_tree1(child) for child in node.children])\n",
    "    else:\n",
    "        return node.tag_\n",
    "\n",
    "    \n",
    "def crear_arbol(texto, nlp):\n",
    "    document = nlp(texto)\n",
    "    jc = list(document.sents)[0]\n",
    "    arbol = to_nltk_tree(jc.root)\n",
    "    # arbol = ParentedTree.convert(arbol)\n",
    "    arbol.pretty_print()\n",
    "    return arbol\n",
    "\n",
    "\n",
    "def rec1(A):\n",
    "    if type(A) is nltk.Tree:\n",
    "        cadena = A.label() \n",
    "        for i, B in enumerate(A):\n",
    "            cadena += '(' + rec1(B) + ')'\n",
    "        return cadena\n",
    "    else:\n",
    "        return A\n",
    "    \n",
    "    \n",
    "def aplicacion(A, diccionario):\n",
    "    if type(A) is nltk.Tree:\n",
    "        funcion = diccionario[A.label()]\n",
    "        argumentos = [aplicacion(x, diccionario) for x in A]\n",
    "        return funcion(*argumentos)\n",
    "    else:\n",
    "        return diccionario[A]\n",
    "\n",
    "    \n",
    "def limpiar_texto(texto, stopwords):\n",
    "#     token = nltk.RegexpTokenizer(r\"\\w+\")\n",
    "#     tokens = token.tokenize(texto)\n",
    "#     lemmatizer = nltk.stem.WordNetLemmatizer()\n",
    "#    snlp = stanza.Pipeline(lang=\"es\")\n",
    "#    nlp = StanzaLanguage(snlp)\n",
    "#    texto = nlp(texto)\n",
    "    lista_texto = texto.split()\n",
    "#    lista = [token.lemma_ for token in texto]\n",
    "    lista = lista_texto\n",
    "    lista = [x for x in lista if x not in stopwords]\n",
    "    return ' '.join(lista)\n",
    "\n",
    "# Función que retorna la forma lógica de un átomo\n",
    "def atomo(texto, nlp, diccionario):\n",
    "    arbol = crear_arbol(texto, nlp)\n",
    "    return aplicacion(arbol, diccionario)\n",
    "\n",
    "# Función para separar por y/o\n",
    "def prop(texto, nlp, diccionario):\n",
    "    documento = nlp(texto)\n",
    "    palabras = [t.orth_ for t in documento]\n",
    "    for i,token in enumerate(documento):\n",
    "#        print(i, token.tag_, token)\n",
    "        if token.tag_ == 'CCONJ':\n",
    "            form1 = atomo(' '.join(palabras[:i]), nlp, diccionario)\n",
    "            form2 = atomo(' '.join(palabras[i+1:]), nlp, diccionario)\n",
    "            if str(token) == 'y':\n",
    "                conectivo = ' Y '\n",
    "            elif str(token) == 'o':\n",
    "                conectivo = ' O '\n",
    "            else:\n",
    "                raise Exception('Conectivo desconocido', token)\n",
    "            return form1 + conectivo + form2\n",
    "    return atomo(texto, nlp, diccionario)\n",
    "\n",
    "# Función que incluye condicionales\n",
    "def traducir(texto, nlp, diccionario):\n",
    "    documento = nlp(texto)\n",
    "    palabras = [t.orth_ for t in documento]\n",
    "    implicacion = False\n",
    "    coma = False\n",
    "    entonces = True\n",
    "    for i,token in enumerate(documento):\n",
    "        if token.tag_ == \"SCONJ\":\n",
    "            ind_si = i\n",
    "            implicacion = True\n",
    "        if implicacion:\n",
    "            if token.tag_ == \"PUNCT\" and token.orth_ == \",\":\n",
    "                ind_coma = i\n",
    "                coma = True\n",
    "            if token.tag_ == \"ADV\" and token.orth_ == \"entonces\":\n",
    "                ind_ent = i\n",
    "                entonces = True\n",
    "    if implicacion and (ind_coma == ind_ent - 1):\n",
    "        Antecedente = prop(' '.join(palabras[ind_si + 1 : ind_coma]), nlp, diccionario)\n",
    "        Consecuente = prop(' '.join(palabras[ind_ent +1:]), nlp, diccionario)\n",
    "        return Antecedente + ' -> ' + Consecuente\n",
    "    return prop(texto, nlp, diccionario)"
   ]
  },
  {
   "cell_type": "code",
   "execution_count": 9,
   "metadata": {},
   "outputs": [],
   "source": [
    "diccionario = {'camina-ROOT': lambda x: 'CAMINAR(' + str(x) + ')',\n",
    "               'está-ROOT': lambda x, y: 'ESTAR(' + str(x) + ',' + str(y) + ')', \n",
    "               'detesta-ROOT': lambda x, y: 'DETESTAR(' + str(x) + ',' + str(y) + ')', \n",
    "               'viaja-ROOT' : lambda x,y,z,w: 'VIAJAR(' + str(x) + ',' + str(y) + ',' + str(z) + ',' + str(w) + ')',\n",
    "               'tiene-ROOT': lambda x, y: 'TENER(' + str(x) + ',' + str(y) + ')',\n",
    "               'tener-ROOT': lambda x, y: 'TENER(' + str(x) + ',' + str(y) + ')',\n",
    "               'comer-ccomp': lambda x: 'COMER(' + str(x) + ')',\n",
    "               'juan-nsubj':'j1',\n",
    "               'laptop-nsubj': 'l1',\n",
    "               'maria-obj':'m1',\n",
    "               'pizza-obj' : 'p1',\n",
    "               'laptop-obj': 'l1',\n",
    "              'Bogotá-nsubj': 'b2',\n",
    "              'Bogotá-obj': 'b2',\n",
    "              'Medellín-obj': 'm2',\n",
    "              'bogota-obj': 'b2',\n",
    "              'medellin-obj': 'm2',\n",
    "              'martes-obj': 'm3',\n",
    "              'miercoles-obj': 'c3'}\n",
    "\n",
    "stopwords = ['la', 'en', 'a', 'una', 'el', 'de']"
   ]
  },
  {
   "cell_type": "markdown",
   "metadata": {},
   "source": [
    "---"
   ]
  },
  {
   "cell_type": "markdown",
   "metadata": {},
   "source": [
    "### Primer ejemplo"
   ]
  },
  {
   "cell_type": "code",
   "execution_count": 4,
   "metadata": {},
   "outputs": [
    {
     "name": "stdout",
     "output_type": "stream",
     "text": [
      "           tiene-ROOT           \n",
      "     __________|__________       \n",
      "juan-nsubj            laptop-obj\n",
      "\n"
     ]
    },
    {
     "data": {
      "text/plain": [
       "'TENER(j1,l1)'"
      ]
     },
     "execution_count": 4,
     "metadata": {},
     "output_type": "execute_result"
    }
   ],
   "source": [
    "texto = 'juan tiene una laptop'\n",
    "texto = limpiar_texto(texto, stopwords)\n",
    "traducir(texto, nlp, diccionario)"
   ]
  },
  {
   "cell_type": "markdown",
   "metadata": {},
   "source": [
    "---"
   ]
  },
  {
   "cell_type": "markdown",
   "metadata": {},
   "source": [
    "### Segundo ejemplo"
   ]
  },
  {
   "cell_type": "code",
   "execution_count": 5,
   "metadata": {},
   "outputs": [
    {
     "name": "stdout",
     "output_type": "stream",
     "text": [
      "           tiene-ROOT           \n",
      "     __________|__________       \n",
      "juan-nsubj            laptop-obj\n",
      "\n",
      "           está-ROOT             \n",
      "     __________|__________        \n",
      "juan-nsubj           Bogotá-nsubj\n",
      "\n"
     ]
    },
    {
     "data": {
      "text/plain": [
       "'TENER(j1,l1) Y ESTAR(j1,b2)'"
      ]
     },
     "execution_count": 5,
     "metadata": {},
     "output_type": "execute_result"
    }
   ],
   "source": [
    "texto = 'juan tiene una laptop y juan está en Bogotá'\n",
    "texto = limpiar_texto(texto, stopwords)\n",
    "traducir(texto, nlp, diccionario)"
   ]
  },
  {
   "cell_type": "markdown",
   "metadata": {},
   "source": [
    "---"
   ]
  },
  {
   "cell_type": "markdown",
   "metadata": {},
   "source": [
    "### Tercer ejemplo"
   ]
  },
  {
   "cell_type": "code",
   "execution_count": 6,
   "metadata": {},
   "outputs": [
    {
     "name": "stdout",
     "output_type": "stream",
     "text": [
      "           viaja-ROOT                        \n",
      "     __________|_______________________       \n",
      "juan-nsubj bogota-obj medellin-obj martes-obj\n",
      "\n"
     ]
    },
    {
     "data": {
      "text/plain": [
       "'VIAJAR(j1,b2,m2,m3)'"
      ]
     },
     "execution_count": 6,
     "metadata": {},
     "output_type": "execute_result"
    }
   ],
   "source": [
    "texto = 'juan viaja bogota medellin martes'\n",
    "texto = limpiar_texto(texto, stopwords)\n",
    "traducir(texto, nlp, diccionario)"
   ]
  },
  {
   "cell_type": "markdown",
   "metadata": {},
   "source": [
    "---"
   ]
  },
  {
   "cell_type": "markdown",
   "metadata": {},
   "source": [
    "### Cuarto ejemplo"
   ]
  },
  {
   "cell_type": "code",
   "execution_count": 7,
   "metadata": {},
   "outputs": [
    {
     "name": "stdout",
     "output_type": "stream",
     "text": [
      "           está-ROOT             \n",
      "     __________|__________        \n",
      "juan-nsubj           Bogotá-nsubj\n",
      "\n",
      "             está-ROOT             \n",
      "      ___________|__________        \n",
      "laptop-nsubj           Bogotá-nsubj\n",
      "\n"
     ]
    },
    {
     "data": {
      "text/plain": [
       "'ESTAR(j1,b2) -> ESTAR(l1,b2)'"
      ]
     },
     "execution_count": 7,
     "metadata": {},
     "output_type": "execute_result"
    }
   ],
   "source": [
    "texto = 'si juan está en Bogotá, entonces la laptop está en Bogotá'\n",
    "texto = limpiar_texto(texto, stopwords)\n",
    "traducir(texto, nlp, diccionario)"
   ]
  },
  {
   "cell_type": "markdown",
   "metadata": {},
   "source": [
    "---"
   ]
  },
  {
   "cell_type": "markdown",
   "metadata": {},
   "source": [
    "### Quinto ejemplo"
   ]
  },
  {
   "cell_type": "code",
   "execution_count": 8,
   "metadata": {
    "scrolled": true
   },
   "outputs": [
    {
     "name": "stdout",
     "output_type": "stream",
     "text": [
      "           tiene-ROOT           \n",
      "     __________|__________       \n",
      "juan-nsubj            laptop-obj\n",
      "\n",
      "           está-ROOT             \n",
      "     __________|__________        \n",
      "juan-nsubj           Bogotá-nsubj\n",
      "\n",
      "             está-ROOT             \n",
      "      ___________|__________        \n",
      "laptop-nsubj           Bogotá-nsubj\n",
      "\n"
     ]
    },
    {
     "data": {
      "text/plain": [
       "'TENER(j1,l1) Y ESTAR(j1,b2) -> ESTAR(l1,b2)'"
      ]
     },
     "execution_count": 8,
     "metadata": {},
     "output_type": "execute_result"
    }
   ],
   "source": [
    "txt = \"Si juan tiene una laptop y juan está en Bogotá, entonces la laptop está en Bogotá\"\n",
    "txt = limpiar_texto(txt, stopwords)\n",
    "traducir(txt, nlp, diccionario)"
   ]
  },
  {
   "cell_type": "markdown",
   "metadata": {},
   "source": [
    "---"
   ]
  },
  {
   "cell_type": "code",
   "execution_count": 20,
   "metadata": {},
   "outputs": [
    {
     "name": "stdout",
     "output_type": "stream",
     "text": [
      "           tiene-ROOT           \n",
      "     __________|__________       \n",
      "juan-nsubj            laptop-obj\n",
      "\n",
      "           viaja-ROOT                        \n",
      "     __________|_______________________       \n",
      "juan-nsubj bogota-obj medellin-obj martes-obj\n",
      "\n",
      "['TENER(j1,l1)', 'VIAJAR(j1,b2,m2,m3)']\n"
     ]
    }
   ],
   "source": [
    "texto = 'juan tiene una laptop. juan viaja de bogota a medellin el martes'\n",
    "documento = texto.split('. ')\n",
    "formulas_texto = []\n",
    "for s in documento:\n",
    "    txt = limpiar_texto(s, stopwords)\n",
    "    formulas_texto.append(traducir(str(txt), nlp, diccionario))\n",
    "print(formulas_texto)"
   ]
  },
  {
   "cell_type": "code",
   "execution_count": 24,
   "metadata": {},
   "outputs": [
    {
     "name": "stdout",
     "output_type": "stream",
     "text": [
      "           tiene-ROOT           \n",
      "     __________|__________       \n",
      "juan-nsubj            laptop-obj\n",
      "\n",
      "           está-ROOT             \n",
      "     __________|__________        \n",
      "juan-nsubj           Bogotá-nsubj\n",
      "\n",
      "             está-ROOT             \n",
      "      ___________|__________        \n",
      "laptop-nsubj           Bogotá-nsubj\n",
      "\n",
      "['TENER(j1,l1) Y ESTAR(j1,b2) -> ESTAR(l1,b2)']\n"
     ]
    }
   ],
   "source": [
    "sentido_comun = 'Si juan tiene una laptop y juan está en Bogotá, entonces la laptop está en Bogotá'\n",
    "documento = sentido_comun.split('. ')\n",
    "formulas_sentido_comun = []\n",
    "for s in documento:\n",
    "    txt = limpiar_texto(s, stopwords)\n",
    "    formulas_sentido_comun.append(traducir(str(txt), nlp, diccionario))\n",
    "print(formulas_sentido_comun)"
   ]
  }
 ],
 "metadata": {
  "kernelspec": {
   "display_name": "Python 3",
   "language": "python",
   "name": "python3"
  },
  "language_info": {
   "codemirror_mode": {
    "name": "ipython",
    "version": 3
   },
   "file_extension": ".py",
   "mimetype": "text/x-python",
   "name": "python",
   "nbconvert_exporter": "python",
   "pygments_lexer": "ipython3",
   "version": "3.8.10"
  }
 },
 "nbformat": 4,
 "nbformat_minor": 4
}
