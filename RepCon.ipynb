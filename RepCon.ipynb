{
 "cells": [
  {
   "cell_type": "code",
   "execution_count": 10,
   "metadata": {},
   "outputs": [],
   "source": [
    "import nltk\n",
    "import spacy\n",
    "from spacy import displacy\n",
    "from nltk import Tree\n",
    "from nltk.tree import ParentedTree\n",
    "import es_core_news_sm\n",
    "#import stanza\n",
    "#from spacy_stanza import StanzaLanguage\n",
    "\n",
    "#nlp = es_core_news_sm.load()\n",
    "\n",
    "nlp = spacy.load('es_core_news_sm')\n",
    "\n",
    "#snlp = stanza.Pipeline(lang=\"es\")\n",
    "#nlp = StanzaLanguage(snlp)"
   ]
  },
  {
   "cell_type": "code",
   "execution_count": 11,
   "metadata": {},
   "outputs": [],
   "source": [
    "def to_nltk_tree(node):\n",
    "    if node.n_lefts + node.n_rights > 0:\n",
    "        return Tree(node.orth_ + '-' + node.dep_, [to_nltk_tree(child) for child in node.children])\n",
    "    else:\n",
    "        return node.orth_ + '-' + node.dep_\n",
    "\n",
    "    \n",
    "def to_nltk_tree1(node):\n",
    "    if node.n_lefts + node.n_rights > 0:\n",
    "        return Tree(node.tag_, [to_nltk_tree1(child) for child in node.children])\n",
    "    else:\n",
    "        return node.tag_\n",
    "\n",
    "    \n",
    "def crear_arbol(texto, nlp):\n",
    "    document = nlp(texto)\n",
    "    jc = list(document.sents)[0]\n",
    "    arbol = to_nltk_tree(jc.root)\n",
    "    # arbol = ParentedTree.convert(arbol)\n",
    "    arbol.pretty_print()\n",
    "    return arbol\n",
    "\n",
    "\n",
    "def rec1(A):\n",
    "    if type(A) is nltk.Tree:\n",
    "        cadena = A.label() \n",
    "        for i, B in enumerate(A):\n",
    "            cadena += '(' + rec1(B) + ')'\n",
    "        return cadena\n",
    "    else:\n",
    "        return A\n",
    "    \n",
    "    \n",
    "def aplicacion(A, diccionario):\n",
    "    if type(A) is nltk.Tree:\n",
    "        funcion = diccionario[A.label()]\n",
    "        argumentos = [aplicacion(x, diccionario) for x in A]\n",
    "        return funcion(*argumentos)\n",
    "    else:\n",
    "        return diccionario[A]\n",
    "\n",
    "    \n",
    "def limpiar_texto(texto, stopwords):\n",
    "#     token = nltk.RegexpTokenizer(r\"\\w+\")\n",
    "#     tokens = token.tokenize(texto)\n",
    "#     lemmatizer = nltk.stem.WordNetLemmatizer()\n",
    "#    snlp = stanza.Pipeline(lang=\"es\")\n",
    "#    nlp = StanzaLanguage(snlp)\n",
    "#    texto = nlp(texto)\n",
    "    lista_texto = texto.split()\n",
    "#    lista = [token.lemma_ for token in texto]\n",
    "    lista = lista_texto\n",
    "    lista = [x for x in lista if x not in stopwords]\n",
    "    return ' '.join(lista)\n",
    "\n",
    "# Función que retorna la forma lógica de un átomo\n",
    "def atomo(texto, nlp, diccionario):\n",
    "    arbol = crear_arbol(texto, nlp)\n",
    "    return aplicacion(arbol, diccionario)\n",
    "\n",
    "# Función para separar por y/o\n",
    "def prop(texto, nlp, diccionario):\n",
    "    documento = nlp(texto)\n",
    "    palabras = [t.orth_ for t in documento]\n",
    "    for i,token in enumerate(documento):\n",
    "#        print(i, token.tag_, token)\n",
    "        if token.tag_ == 'CCONJ':\n",
    "            form1 = atomo(' '.join(palabras[:i]), nlp, diccionario)\n",
    "            form2 = atomo(' '.join(palabras[i+1:]), nlp, diccionario)\n",
    "            if str(token) == 'y':\n",
    "                conectivo = ' Y '\n",
    "            elif str(token) == 'o':\n",
    "                conectivo = ' O '\n",
    "            else:\n",
    "                raise Exception('Conectivo desconocido', token)\n",
    "            return form1 + conectivo + form2\n",
    "    return atomo(texto, nlp, diccionario)\n",
    "\n",
    "# Función que incluye condicionales\n",
    "def traducir(texto, nlp, diccionario):\n",
    "    documento = nlp(texto)\n",
    "    palabras = [t.orth_ for t in documento]\n",
    "    implicacion = False\n",
    "    coma = False\n",
    "    entonces = True\n",
    "    for i,token in enumerate(documento):\n",
    "        if token.tag_ == \"SCONJ\":\n",
    "            ind_si = i\n",
    "            implicacion = True\n",
    "        if implicacion:\n",
    "            if token.tag_ == \"PUNCT\" and token.orth_ == \",\":\n",
    "                ind_coma = i\n",
    "                coma = True\n",
    "            if token.tag_ == \"ADV\" and token.orth_ == \"entonces\":\n",
    "                ind_ent = i\n",
    "                entonces = True\n",
    "    if implicacion and (ind_coma == ind_ent - 1):\n",
    "        Antecedente = prop(' '.join(palabras[ind_si + 1 : ind_coma]), nlp, diccionario)\n",
    "        Consecuente = prop(' '.join(palabras[ind_ent +1:]), nlp, diccionario)\n",
    "        return Antecedente + ' -> ' + Consecuente\n",
    "    return prop(texto, nlp, diccionario)"
   ]
  },
  {
   "cell_type": "markdown",
   "metadata": {},
   "source": [
    "##Tipos de Entidades\n",
    "1: Objetos o personas\n",
    "2: Lugares\n",
    "3: Tiempos"
   ]
  },
  {
   "cell_type": "code",
   "execution_count": 21,
   "metadata": {},
   "outputs": [],
   "source": [
    "diccionario = {'camina-ROOT': lambda x: 'CAMINAR(' + str(x) + ')',\n",
    "               'está-ROOT': lambda x, y: 'ESTAR(' + str(x) + ',' + str(y) + ')', \n",
    "               'detesta-ROOT': lambda x, y: 'DETESTAR(' + str(x) + ',' + str(y) + ')', \n",
    "               'viaja-ROOT' : lambda x,y,z,w: 'VIAJAR(' + str(x) + ',' + str(y) + ',' + str(z) + ',' + str(w) + ')',\n",
    "               'tiene-ROOT': lambda x, y: 'TENER(' + str(x) + ',' + str(y) + ')',\n",
    "               'tener-ROOT': lambda x, y: 'TENER(' + str(x) + ',' + str(y) + ')',\n",
    "               'comer-ccomp': lambda x: 'COMER(' + str(x) + ')',\n",
    "               'juan-nsubj':'j1',\n",
    "               'laptop-nsubj': 'l1',\n",
    "               'maria-obj':'m1',\n",
    "               'pizza-obj' : 'p1',\n",
    "               'laptop-obj': 'l1',\n",
    "              'Bogotá-nsubj': 'b2',\n",
    "              'Bogotá-obj': 'b2',\n",
    "              'Medellín-obj': 'm2',\n",
    "              'bogota-obj': 'b2',\n",
    "              'medellin-obj': 'm2',\n",
    "              'martes-obj': 'm3',\n",
    "              'miercoles-obj': 'c3',\n",
    "              }\n",
    "\n",
    "stopwords = ['la', 'en', 'a', 'una', 'el', 'de']"
   ]
  },
  {
   "cell_type": "markdown",
   "metadata": {},
   "source": [
    "---"
   ]
  },
  {
   "cell_type": "markdown",
   "metadata": {},
   "source": [
    "### Primer ejemplo"
   ]
  },
  {
   "cell_type": "code",
   "execution_count": 13,
   "metadata": {},
   "outputs": [
    {
     "name": "stdout",
     "output_type": "stream",
     "text": [
      "           tiene-ROOT           \n",
      "     __________|__________       \n",
      "juan-nsubj            laptop-obj\n",
      "\n"
     ]
    },
    {
     "data": {
      "text/plain": [
       "'TENER(j1,l1)'"
      ]
     },
     "execution_count": 13,
     "metadata": {},
     "output_type": "execute_result"
    }
   ],
   "source": [
    "texto = 'juan tiene una laptop'\n",
    "texto = limpiar_texto(texto, stopwords)\n",
    "traducir(texto, nlp, diccionario)"
   ]
  },
  {
   "cell_type": "markdown",
   "metadata": {},
   "source": [
    "---"
   ]
  },
  {
   "cell_type": "markdown",
   "metadata": {},
   "source": [
    "### Segundo ejemplo"
   ]
  },
  {
   "cell_type": "code",
   "execution_count": 14,
   "metadata": {},
   "outputs": [
    {
     "name": "stdout",
     "output_type": "stream",
     "text": [
      "           tiene-ROOT           \n",
      "     __________|__________       \n",
      "juan-nsubj            laptop-obj\n",
      "\n",
      "           está-ROOT             \n",
      "     __________|__________        \n",
      "juan-nsubj           Bogotá-nsubj\n",
      "\n"
     ]
    },
    {
     "data": {
      "text/plain": [
       "'TENER(j1,l1) Y ESTAR(j1,b2)'"
      ]
     },
     "execution_count": 14,
     "metadata": {},
     "output_type": "execute_result"
    }
   ],
   "source": [
    "texto = 'juan tiene una laptop y juan está en Bogotá'\n",
    "texto = limpiar_texto(texto, stopwords)\n",
    "traducir(texto, nlp, diccionario)"
   ]
  },
  {
   "cell_type": "markdown",
   "metadata": {},
   "source": [
    "---"
   ]
  },
  {
   "cell_type": "markdown",
   "metadata": {},
   "source": [
    "### Tercer ejemplo"
   ]
  },
  {
   "cell_type": "code",
   "execution_count": 15,
   "metadata": {},
   "outputs": [
    {
     "name": "stdout",
     "output_type": "stream",
     "text": [
      "           viaja-ROOT                        \n",
      "     __________|_______________________       \n",
      "juan-nsubj bogota-obj medellin-obj martes-obj\n",
      "\n"
     ]
    },
    {
     "data": {
      "text/plain": [
       "'VIAJAR(j1,b2,m2,m3)'"
      ]
     },
     "execution_count": 15,
     "metadata": {},
     "output_type": "execute_result"
    }
   ],
   "source": [
    "texto = 'juan viaja bogota medellin martes'\n",
    "texto = limpiar_texto(texto, stopwords)\n",
    "traducir(texto, nlp, diccionario)"
   ]
  },
  {
   "cell_type": "markdown",
   "metadata": {},
   "source": [
    "---"
   ]
  },
  {
   "cell_type": "markdown",
   "metadata": {},
   "source": [
    "### Cuarto ejemplo"
   ]
  },
  {
   "cell_type": "code",
   "execution_count": 19,
   "metadata": {},
   "outputs": [
    {
     "name": "stdout",
     "output_type": "stream",
     "text": [
      "           está-ROOT             \n",
      "     __________|__________        \n",
      "juan-nsubj           Bogotá-nsubj\n",
      "\n",
      "             está-ROOT             \n",
      "      ___________|__________        \n",
      "laptop-nsubj           Bogotá-nsubj\n",
      "\n"
     ]
    },
    {
     "data": {
      "text/plain": [
       "'ESTAR(j1,b2) -> ESTAR(l1,b2)'"
      ]
     },
     "execution_count": 19,
     "metadata": {},
     "output_type": "execute_result"
    }
   ],
   "source": [
    "texto = 'si juan está en Bogotá, entonces la laptop está en Bogotá'\n",
    "texto = limpiar_texto(texto, stopwords)\n",
    "traducir(texto, nlp, diccionario)"
   ]
  },
  {
   "cell_type": "markdown",
   "metadata": {},
   "source": [
    "---"
   ]
  },
  {
   "cell_type": "markdown",
   "metadata": {},
   "source": [
    "### Quinto ejemplo"
   ]
  },
  {
   "cell_type": "code",
   "execution_count": 17,
   "metadata": {
    "scrolled": true
   },
   "outputs": [
    {
     "name": "stdout",
     "output_type": "stream",
     "text": [
      "           tiene-ROOT           \n",
      "     __________|__________       \n",
      "juan-nsubj            laptop-obj\n",
      "\n",
      "           está-ROOT             \n",
      "     __________|__________        \n",
      "juan-nsubj           Bogotá-nsubj\n",
      "\n",
      "             está-ROOT             \n",
      "      ___________|__________        \n",
      "laptop-nsubj           Bogotá-nsubj\n",
      "\n"
     ]
    },
    {
     "data": {
      "text/plain": [
       "'TENER(j1,l1) Y ESTAR(j1,b2) -> ESTAR(l1,b2)'"
      ]
     },
     "execution_count": 17,
     "metadata": {},
     "output_type": "execute_result"
    }
   ],
   "source": [
    "txt = \"Si juan tiene una laptop y juan está en Bogotá, entonces la laptop está en Bogotá\"\n",
    "txt = limpiar_texto(txt, stopwords)\n",
    "traducir(txt, nlp, diccionario)"
   ]
  },
  {
   "cell_type": "markdown",
   "metadata": {},
   "source": [
    "---"
   ]
  },
  {
   "cell_type": "code",
   "execution_count": null,
   "metadata": {},
   "outputs": [],
   "source": [
    "texto = 'juan tiene una laptop. juan viaja de bogota a medellin el martes'\n",
    "documento = texto.split('. ')\n",
    "formulas_texto = []\n",
    "for s in documento:\n",
    "    txt = limpiar_texto(s, stopwords)\n",
    "    formulas_texto.append(traducir(str(txt), nlp, diccionario))\n",
    "print(formulas_texto)"
   ]
  },
  {
   "cell_type": "code",
   "execution_count": 90,
   "metadata": {},
   "outputs": [
    {
     "name": "stdout",
     "output_type": "stream",
     "text": [
      "<class 'function'>\n",
      "Entidades ['juan-nsubj', 'laptop-nsubj', 'maria-obj', 'pizza-obj', 'laptop-obj', 'Bogotá-nsubj', 'Bogotá-obj', 'Medellín-obj', 'bogota-obj', 'x2-obj', 'medellin-obj', 'martes-obj', 'miercoles-obj']\n",
      "Lugares ['Bogotá-nsubj', 'Bogotá-obj', 'Medellín-obj', 'bogota-obj', 'x2-obj', 'medellin-obj']\n",
      "\n",
      "['SUJETO VERBO Bogotá-nsubj', 'SUJETO VERBO Bogotá-obj', 'SUJETO VERBO Medellín-obj', 'SUJETO VERBO bogota-obj', 'SUJETO VERBO x2-obj', 'SUJETO VERBO medellin-obj', 'laptop está Bogotá-nsubj', 'laptop está Bogotá-obj', 'laptop está Medellín-obj', 'laptop está bogota-obj', 'laptop está x2-obj', 'laptop está medellin-obj', 'laptop está Bogotá-nsubj', 'laptop está Bogotá-obj', 'laptop está Medellín-obj', 'laptop está bogota-obj', 'laptop está x2-obj', 'laptop está medellin-obj']\n"
     ]
    }
   ],
   "source": [
    "def pregunta_donde(txt):\n",
    "    pass\n",
    "\n",
    "# txt = 'dónde VERBO SUJETO?'\n",
    "txt = 'dónde está el laptop?'\n",
    "\n",
    "\n",
    "tipo_funcion = type(lambda x: x2)\n",
    "print(tipo_funcion)\n",
    "Entidades = [k for k in diccionario.keys() if type(diccionario[k]) != tipo_funcion]\n",
    "print(\"Entidades\", Entidades)\n",
    "Lugares = [k for k in Entidades if '2' in diccionario[k]]\n",
    "print(\"Lugares\", Lugares)\n",
    "\n",
    "\n",
    "document = nlp(txt)\n",
    "sujetos = [t.orth_ for t in document if t.tag_ == 'NOUN']\n",
    "verbs = [t.orth_ for t in document if t.tag_ == 'VERB']\n",
    "for x2 in Lugares:\n",
    "    props.append(f'{sujetos[0]} {verbs[0]} {x2}')\n",
    "\n",
    "print('')\n",
    "print(props)\n",
    "# 'dónde está el laptop?' => 'el laptop está x2'"
   ]
  },
  {
   "cell_type": "code",
   "execution_count": 84,
   "metadata": {},
   "outputs": [
    {
     "name": "stdout",
     "output_type": "stream",
     "text": [
      "[('donde', 'PRON', 'obl'), ('está', 'VERB', 'ROOT'), ('libro', 'NOUN', 'nsubj')]\n",
      "está\n",
      "          está-ROOT            \n",
      "     _________|__________       \n",
      "donde-obl           libro-nsubj\n",
      "\n"
     ]
    }
   ],
   "source": [
    "texto = 'donde está el libro'\n",
    "texto = limpiar_texto(texto, stopwords)\n",
    "document = nlp(texto)\n",
    "palabras = [(t.orth_, t.tag_, t.dep_) for t in document]\n",
    "print(palabras)\n",
    "jc = list(document.sents)[0]\n",
    "print(jc.root)\n",
    "arbol = to_nltk_tree(jc.root)\n",
    "# arbol = ParentedTree.convert(arbol)\n",
    "arbol.pretty_print()"
   ]
  },
  {
   "cell_type": "code",
   "execution_count": 27,
   "metadata": {},
   "outputs": [
    {
     "ename": "AttributeError",
     "evalue": "'str' object has no attribute 'pretty_print'",
     "output_type": "error",
     "traceback": [
      "\u001b[0;31m---------------------------------------------------------------------------\u001b[0m",
      "\u001b[0;31mAttributeError\u001b[0m                            Traceback (most recent call last)",
      "\u001b[0;32m<ipython-input-27-c5a6b4680fd5>\u001b[0m in \u001b[0;36m<module>\u001b[0;34m\u001b[0m\n\u001b[1;32m      1\u001b[0m \u001b[0mtexto\u001b[0m \u001b[0;34m=\u001b[0m \u001b[0;34m'la laptop está en x'\u001b[0m\u001b[0;34m\u001b[0m\u001b[0;34m\u001b[0m\u001b[0m\n\u001b[1;32m      2\u001b[0m \u001b[0mtexto\u001b[0m \u001b[0;34m=\u001b[0m \u001b[0mlimpiar_texto\u001b[0m\u001b[0;34m(\u001b[0m\u001b[0mtexto\u001b[0m\u001b[0;34m,\u001b[0m \u001b[0mstopwords\u001b[0m\u001b[0;34m)\u001b[0m\u001b[0;34m\u001b[0m\u001b[0;34m\u001b[0m\u001b[0m\n\u001b[0;32m----> 3\u001b[0;31m \u001b[0mtraducir\u001b[0m\u001b[0;34m(\u001b[0m\u001b[0mtexto\u001b[0m\u001b[0;34m,\u001b[0m \u001b[0mnlp\u001b[0m\u001b[0;34m,\u001b[0m \u001b[0mdiccionario\u001b[0m\u001b[0;34m)\u001b[0m\u001b[0;34m\u001b[0m\u001b[0;34m\u001b[0m\u001b[0m\n\u001b[0m",
      "\u001b[0;32m<ipython-input-11-5bfcf0ee0065>\u001b[0m in \u001b[0;36mtraducir\u001b[0;34m(texto, nlp, diccionario)\u001b[0m\n\u001b[1;32m     99\u001b[0m         \u001b[0mConsecuente\u001b[0m \u001b[0;34m=\u001b[0m \u001b[0mprop\u001b[0m\u001b[0;34m(\u001b[0m\u001b[0;34m' '\u001b[0m\u001b[0;34m.\u001b[0m\u001b[0mjoin\u001b[0m\u001b[0;34m(\u001b[0m\u001b[0mpalabras\u001b[0m\u001b[0;34m[\u001b[0m\u001b[0mind_ent\u001b[0m \u001b[0;34m+\u001b[0m\u001b[0;36m1\u001b[0m\u001b[0;34m:\u001b[0m\u001b[0;34m]\u001b[0m\u001b[0;34m)\u001b[0m\u001b[0;34m,\u001b[0m \u001b[0mnlp\u001b[0m\u001b[0;34m,\u001b[0m \u001b[0mdiccionario\u001b[0m\u001b[0;34m)\u001b[0m\u001b[0;34m\u001b[0m\u001b[0;34m\u001b[0m\u001b[0m\n\u001b[1;32m    100\u001b[0m         \u001b[0;32mreturn\u001b[0m \u001b[0mAntecedente\u001b[0m \u001b[0;34m+\u001b[0m \u001b[0;34m' -> '\u001b[0m \u001b[0;34m+\u001b[0m \u001b[0mConsecuente\u001b[0m\u001b[0;34m\u001b[0m\u001b[0;34m\u001b[0m\u001b[0m\n\u001b[0;32m--> 101\u001b[0;31m     \u001b[0;32mreturn\u001b[0m \u001b[0mprop\u001b[0m\u001b[0;34m(\u001b[0m\u001b[0mtexto\u001b[0m\u001b[0;34m,\u001b[0m \u001b[0mnlp\u001b[0m\u001b[0;34m,\u001b[0m \u001b[0mdiccionario\u001b[0m\u001b[0;34m)\u001b[0m\u001b[0;34m\u001b[0m\u001b[0;34m\u001b[0m\u001b[0m\n\u001b[0m",
      "\u001b[0;32m<ipython-input-11-5bfcf0ee0065>\u001b[0m in \u001b[0;36mprop\u001b[0;34m(texto, nlp, diccionario)\u001b[0m\n\u001b[1;32m     66\u001b[0m \u001b[0;31m#        print(i, token.tag_, token)\u001b[0m\u001b[0;34m\u001b[0m\u001b[0;34m\u001b[0m\u001b[0;34m\u001b[0m\u001b[0m\n\u001b[1;32m     67\u001b[0m         \u001b[0;32mif\u001b[0m \u001b[0mtoken\u001b[0m\u001b[0;34m.\u001b[0m\u001b[0mtag_\u001b[0m \u001b[0;34m==\u001b[0m \u001b[0;34m'CCONJ'\u001b[0m\u001b[0;34m:\u001b[0m\u001b[0;34m\u001b[0m\u001b[0;34m\u001b[0m\u001b[0m\n\u001b[0;32m---> 68\u001b[0;31m             \u001b[0mform1\u001b[0m \u001b[0;34m=\u001b[0m \u001b[0matomo\u001b[0m\u001b[0;34m(\u001b[0m\u001b[0;34m' '\u001b[0m\u001b[0;34m.\u001b[0m\u001b[0mjoin\u001b[0m\u001b[0;34m(\u001b[0m\u001b[0mpalabras\u001b[0m\u001b[0;34m[\u001b[0m\u001b[0;34m:\u001b[0m\u001b[0mi\u001b[0m\u001b[0;34m]\u001b[0m\u001b[0;34m)\u001b[0m\u001b[0;34m,\u001b[0m \u001b[0mnlp\u001b[0m\u001b[0;34m,\u001b[0m \u001b[0mdiccionario\u001b[0m\u001b[0;34m)\u001b[0m\u001b[0;34m\u001b[0m\u001b[0;34m\u001b[0m\u001b[0m\n\u001b[0m\u001b[1;32m     69\u001b[0m             \u001b[0mform2\u001b[0m \u001b[0;34m=\u001b[0m \u001b[0matomo\u001b[0m\u001b[0;34m(\u001b[0m\u001b[0;34m' '\u001b[0m\u001b[0;34m.\u001b[0m\u001b[0mjoin\u001b[0m\u001b[0;34m(\u001b[0m\u001b[0mpalabras\u001b[0m\u001b[0;34m[\u001b[0m\u001b[0mi\u001b[0m\u001b[0;34m+\u001b[0m\u001b[0;36m1\u001b[0m\u001b[0;34m:\u001b[0m\u001b[0;34m]\u001b[0m\u001b[0;34m)\u001b[0m\u001b[0;34m,\u001b[0m \u001b[0mnlp\u001b[0m\u001b[0;34m,\u001b[0m \u001b[0mdiccionario\u001b[0m\u001b[0;34m)\u001b[0m\u001b[0;34m\u001b[0m\u001b[0;34m\u001b[0m\u001b[0m\n\u001b[1;32m     70\u001b[0m             \u001b[0;32mif\u001b[0m \u001b[0mstr\u001b[0m\u001b[0;34m(\u001b[0m\u001b[0mtoken\u001b[0m\u001b[0;34m)\u001b[0m \u001b[0;34m==\u001b[0m \u001b[0;34m'y'\u001b[0m\u001b[0;34m:\u001b[0m\u001b[0;34m\u001b[0m\u001b[0;34m\u001b[0m\u001b[0m\n",
      "\u001b[0;32m<ipython-input-11-5bfcf0ee0065>\u001b[0m in \u001b[0;36matomo\u001b[0;34m(texto, nlp, diccionario)\u001b[0m\n\u001b[1;32m     56\u001b[0m \u001b[0;31m# Función que retorna la forma lógica de un átomo\u001b[0m\u001b[0;34m\u001b[0m\u001b[0;34m\u001b[0m\u001b[0;34m\u001b[0m\u001b[0m\n\u001b[1;32m     57\u001b[0m \u001b[0;32mdef\u001b[0m \u001b[0matomo\u001b[0m\u001b[0;34m(\u001b[0m\u001b[0mtexto\u001b[0m\u001b[0;34m,\u001b[0m \u001b[0mnlp\u001b[0m\u001b[0;34m,\u001b[0m \u001b[0mdiccionario\u001b[0m\u001b[0;34m)\u001b[0m\u001b[0;34m:\u001b[0m\u001b[0;34m\u001b[0m\u001b[0;34m\u001b[0m\u001b[0m\n\u001b[0;32m---> 58\u001b[0;31m     \u001b[0marbol\u001b[0m \u001b[0;34m=\u001b[0m \u001b[0mcrear_arbol\u001b[0m\u001b[0;34m(\u001b[0m\u001b[0mtexto\u001b[0m\u001b[0;34m,\u001b[0m \u001b[0mnlp\u001b[0m\u001b[0;34m)\u001b[0m\u001b[0;34m\u001b[0m\u001b[0;34m\u001b[0m\u001b[0m\n\u001b[0m\u001b[1;32m     59\u001b[0m     \u001b[0;32mreturn\u001b[0m \u001b[0maplicacion\u001b[0m\u001b[0;34m(\u001b[0m\u001b[0marbol\u001b[0m\u001b[0;34m,\u001b[0m \u001b[0mdiccionario\u001b[0m\u001b[0;34m)\u001b[0m\u001b[0;34m\u001b[0m\u001b[0;34m\u001b[0m\u001b[0m\n\u001b[1;32m     60\u001b[0m \u001b[0;34m\u001b[0m\u001b[0m\n",
      "\u001b[0;32m<ipython-input-11-5bfcf0ee0065>\u001b[0m in \u001b[0;36mcrear_arbol\u001b[0;34m(texto, nlp)\u001b[0m\n\u001b[1;32m     18\u001b[0m     \u001b[0marbol\u001b[0m \u001b[0;34m=\u001b[0m \u001b[0mto_nltk_tree\u001b[0m\u001b[0;34m(\u001b[0m\u001b[0mjc\u001b[0m\u001b[0;34m.\u001b[0m\u001b[0mroot\u001b[0m\u001b[0;34m)\u001b[0m\u001b[0;34m\u001b[0m\u001b[0;34m\u001b[0m\u001b[0m\n\u001b[1;32m     19\u001b[0m     \u001b[0;31m# arbol = ParentedTree.convert(arbol)\u001b[0m\u001b[0;34m\u001b[0m\u001b[0;34m\u001b[0m\u001b[0;34m\u001b[0m\u001b[0m\n\u001b[0;32m---> 20\u001b[0;31m     \u001b[0marbol\u001b[0m\u001b[0;34m.\u001b[0m\u001b[0mpretty_print\u001b[0m\u001b[0;34m(\u001b[0m\u001b[0;34m)\u001b[0m\u001b[0;34m\u001b[0m\u001b[0;34m\u001b[0m\u001b[0m\n\u001b[0m\u001b[1;32m     21\u001b[0m     \u001b[0;32mreturn\u001b[0m \u001b[0marbol\u001b[0m\u001b[0;34m\u001b[0m\u001b[0;34m\u001b[0m\u001b[0m\n\u001b[1;32m     22\u001b[0m \u001b[0;34m\u001b[0m\u001b[0m\n",
      "\u001b[0;31mAttributeError\u001b[0m: 'str' object has no attribute 'pretty_print'"
     ]
    }
   ],
   "source": [
    "texto = 'la laptop está en x'\n",
    "texto = limpiar_texto(texto, stopwords)\n",
    "traducir(texto, nlp, diccionario)"
   ]
  },
  {
   "cell_type": "code",
   "execution_count": null,
   "metadata": {},
   "outputs": [],
   "source": [
    "preguntas = 'dónde está el laptop el miércoles? dónde está juan el martes?'\n",
    "documento = preguntas.split('?')\n",
    "formulas_preguntas = []\n",
    "for s in documento:\n",
    "    txt = limpiar_texto(s, stopwords)\n",
    "    formulas_preguntas.append(traducir(str(txt), nlp, diccionario))\n",
    "print(formulas_preguntas)"
   ]
  },
  {
   "cell_type": "code",
   "execution_count": null,
   "metadata": {},
   "outputs": [],
   "source": [
    "sentido_comun = 'Si juan tiene una laptop y juan está en Bogotá, entonces la laptop está en Bogotá'\n",
    "documento = sentido_comun.split('. ')\n",
    "formulas_sentido_comun = []\n",
    "for s in documento:\n",
    "    txt = limpiar_texto(s, stopwords)\n",
    "    formulas_sentido_comun.append(traducir(str(txt), nlp, diccionario))\n",
    "print(formulas_sentido_comun)"
   ]
  },
  {
   "cell_type": "markdown",
   "metadata": {},
   "source": [
    "## Preguntas\n",
    "Al encontrar preguntas con \"Dónde\" se debe realizar una lista con las posibles respuestas de lugares que hagan verdadera la proposición"
   ]
  }
 ],
 "metadata": {
  "kernelspec": {
   "display_name": "Python 3",
   "language": "python",
   "name": "python3"
  },
  "language_info": {
   "codemirror_mode": {
    "name": "ipython",
    "version": 3
   },
   "file_extension": ".py",
   "mimetype": "text/x-python",
   "name": "python",
   "nbconvert_exporter": "python",
   "pygments_lexer": "ipython3",
   "version": "3.8.10"
  }
 },
 "nbformat": 4,
 "nbformat_minor": 4
}
